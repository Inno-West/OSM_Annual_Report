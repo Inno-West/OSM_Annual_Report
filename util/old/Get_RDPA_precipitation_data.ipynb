{
 "cells": [
  {
   "cell_type": "code",
   "execution_count": 1,
   "id": "935a429c",
   "metadata": {},
   "outputs": [],
   "source": [
    "import os\n",
    "import pandas as pd\n",
    "import geopandas as gpd\n",
    "\n",
    "from osgeo import gdal\n",
    "import numpy as np\n",
    "import matplotlib.pyplot as plt"
   ]
  },
  {
   "cell_type": "code",
   "execution_count": 2,
   "id": "e577f439",
   "metadata": {},
   "outputs": [],
   "source": [
    "def get_capa_daily_data(year, month, day):\n",
    "    # Archived \"nowcast\"\n",
    "    url = f\"/vsicurl/https://collaboration.cmc.ec.gc.ca/science/outgoing/capa.grib/{year}{month}{day}12_000_CMC_RDPA_APCP-024-0700cutoff_SFC_0_ps10km.grib2\"\n",
    "    ds = gdal.Open(url)\n",
    "    if ds is None:\n",
    "        # Recent \"nowcast\"\n",
    "        url = f\"/vsicurl/https://dd.weather.gc.ca/analysis/precip/rdpa/grib2/polar_stereographic/24/CMC_RDPA_APCP-024-0700cutoff_SFC_0_ps10km_{year}{month}{day}12_000.grib2\"\n",
    "        ds = gdal.Open(url)\n",
    "    \n",
    "    if ds is None:\n",
    "        # Archived \"hindcast\"\n",
    "        url = f\"/vsicurl/https://collaboration.cmc.ec.gc.ca/science/outgoing/capa.grib/hindcast/capa_hindcast_v2.4/24h/{year}{month}{day}12_000_CMC_RDPA_APCP-024_SFC_0_ps10km.grib2\"\n",
    "        ds = gdal.Open(url)\n",
    "    \n",
    "    # https://eccc-msc.github.io/open-data/msc-data/nwp_rdpa/readme_rdpa-datamart_en/\n",
    "    # Band 0 (1) is Analysis of Accumulated Precipitation on a 06hr or 24hr interval\n",
    "    # Band 1 (2) is Confidence Index for Analysis\n",
    "    try:\n",
    "        band = ds.GetRasterBand(1)\n",
    "        dataset = band.ReadAsArray()\n",
    "        dataset[dataset == band.GetNoDataValue()] = np.nan\n",
    "        dataset = np.flip(dataset, 0)\n",
    "        flag = 0\n",
    "    except AttributeError:\n",
    "        dataset = 0.0\n",
    "        flag = 1\n",
    "    \n",
    "    return dataset, flag"
   ]
  },
  {
   "cell_type": "code",
   "execution_count": 15,
   "id": "7e7dfd2e",
   "metadata": {},
   "outputs": [],
   "source": [
    "start_yr = 2021\n",
    "end_yr = 2021\n",
    "tot = np.zeros((end_yr-start_yr+1,824,935))\n",
    "flg = np.zeros((end_yr-start_yr+1))\n",
    "\n",
    "dt = pd.to_datetime(np.arange(f'{start_yr}-01-01',f'{end_yr+1}-01-01',dtype='datetime64[D]'))  # end_yr + 1 to be inclusive\n",
    "\n",
    "cnt = 0\n",
    "for i in dt:\n",
    "    ds, f = get_capa_daily_data(i.strftime('%Y'), \n",
    "                                i.strftime('%m'), \n",
    "                                i.strftime('%d'))  # get total precip for each grid\n",
    "    flg[i.year - start_yr] += f\n",
    "    tot[i.year - start_yr,:,:] += ds"
   ]
  },
  {
   "cell_type": "code",
   "execution_count": 4,
   "id": "58f3c9ce",
   "metadata": {},
   "outputs": [],
   "source": [
    "flow_stn = ['07BE001', '07DD001', '07DA001', '07DA018', '07DA040', '07DA033', '07CE013', '07CE002', '07CE007',\n",
    "            '07CD005', '07CD001', '07DB002', '07DB003', '07DA038', '07DA039', '07DA032', '07DA041', '07DC001',\n",
    "            '07DC003', '07CE008', '07CD004', '07CD008', '07CD009', '07CB002', '07DA027', '07CE005', '07DA026',\n",
    "            '07DA030', '07DB006', '07DB001', '07DC004', '07DA035', '07DA029', '07DA028', '07DA008', '07DA034',\n",
    "            '07CE003', '07DA007', '07DA042', '07DA044', '07DA006', '07CE010', '07DA037', '07DA045']\n",
    "level_stn = ['07CE001', '07DA024', '07DA023', '07DA025']\n",
    "stations = [*flow_stn, *level_stn]\n",
    "df_map_rdpa = []\n",
    "for sta in stations:\n",
    "    shapefile = os.path.join(r'C:\\Users\\LeachJ\\Documents\\06_Oil Sands Monitoring Group\\gis', \n",
    "                             'rdpa_grids', \n",
    "                             f'CaPA_grid_{sta}.shp')\n",
    "    if os.path.exists(shapefile):\n",
    "        gdf = gpd.read_file(shapefile)\n",
    "        gdf['Weight'] = gdf.area / np.sum(gdf.area)\n",
    "        \n",
    "        for cnt, yyyy in enumerate(range(start_yr, end_yr+1)):\n",
    "            MAP = 0\n",
    "            for i in range(0, len(gdf)):\n",
    "                # -1 for nj and ni because the index in the shapefiles start at 1 instead of 0\n",
    "                MAP += tot[cnt, gdf['nj'][i]-1, gdf['ni'][i]-1].squeeze() * gdf['Weight'][i]\n",
    "            # MAP = MAP / len(gdf)\n",
    "            \n",
    "            data = {'StationID': sta, 'YEAR': yyyy, 'VALUE': MAP, 'MISSING': flg[cnt]}\n",
    "            df_map_rdpa.append(pd.DataFrame(data, index=[cnt]))\n",
    "\n",
    "df_map_rdpa = pd.concat(df_map_rdpa)\n",
    "df_map_rdpa.reset_index(drop=True, inplace=True)\n",
    "df_map_rdpa.to_csv(f\"CaPA_MAP_{start_yr}-{end_yr}.csv\", index=False)"
   ]
  },
  {
   "cell_type": "code",
   "execution_count": 5,
   "id": "f4d4f327",
   "metadata": {},
   "outputs": [],
   "source": [
    "ni = []\n",
    "nj = []\n",
    "lat = []\n",
    "lon = []\n",
    "totP = []\n",
    "df_grid_rdpa = []\n",
    "shapefile = os.path.join(r'C:\\Users\\LeachJ\\Documents\\5_Oil Sands Monitoring Group\\gis', \n",
    "                         'rdpa_grids', \n",
    "                         'CaPA_grid_07DD001.shp')\n",
    "if os.path.exists(shapefile):\n",
    "    gdf = gpd.read_file(shapefile)\n",
    "        \n",
    "    for cnt, yyyy in enumerate(range(start_yr, end_yr+1)):\n",
    "        for i in range(0, len(gdf)):\n",
    "            # -1 for nj and ni because the index in the shapefiles start at 1 instead of 0\n",
    "            totP.append(tot[cnt, gdf['nj'][i]-1, gdf['ni'][i]-1].squeeze())\n",
    "            ni.append(gdf['ni'][i])\n",
    "            nj.append(gdf['nj'][i])\n",
    "            lat.append(gdf['Latitude'][i])\n",
    "            lon.append(gdf['Longitude'][i])\n",
    "                \n",
    "        data = {'ni': ni, 'nj': nj, 'Longitude': lon, 'Latitude': lat, 'TotalPrecipitation': totP, 'Year': yyyy}\n",
    "        df_grid_rdpa.append(pd.DataFrame(data))\n",
    "\n",
    "df_grid_rdpa = pd.concat(df_grid_rdpa)\n",
    "df_grid_rdpa.reset_index(drop=True, inplace=True)\n",
    "df_grid_rdpa.to_csv(f\"CaPA_grid_total_precip_{start_yr}-{end_yr}.csv\", index=False)"
   ]
  },
  {
   "cell_type": "code",
   "execution_count": null,
   "id": "595bd167",
   "metadata": {},
   "outputs": [],
   "source": []
  },
  {
   "cell_type": "code",
   "execution_count": 6,
   "id": "3acf8148",
   "metadata": {},
   "outputs": [
    {
     "data": {
      "text/plain": [
       "\"dfcoord = pd.read_csv('10km_res')\\n# coordinates of the first grid point should be 18.1429° N 142.8968° W\\ndfcoord['Longitude'] = dfcoord['Longitude'] - 360  - 0.0043 + 0.000044\\ndfcoord['Latitude'] = dfcoord['Latitude'] - 0.002130\\n# set starting index to 0,0\\ndfcoord['ni'] = dfcoord['ni'] - 1\\ndfcoord['nj'] = dfcoord['nj'] - 1\\nlon = pd.pivot_table(dfcoord, values='Longitude', index=['nj'], columns=['ni'])\\nlat = pd.pivot_table(dfcoord, values='Latitude', index=['nj'], columns=['ni'])\\n\\nplt.scatter(lon.values, lat.values, c=tot)\""
      ]
     },
     "execution_count": 6,
     "metadata": {},
     "output_type": "execute_result"
    }
   ],
   "source": [
    "\"\"\"dfcoord = pd.read_csv('10km_res')\n",
    "# coordinates of the first grid point should be 18.1429° N 142.8968° W\n",
    "dfcoord['Longitude'] = dfcoord['Longitude'] - 360  - 0.0043 + 0.000044\n",
    "dfcoord['Latitude'] = dfcoord['Latitude'] - 0.002130\n",
    "# set starting index to 0,0\n",
    "dfcoord['ni'] = dfcoord['ni'] - 1\n",
    "dfcoord['nj'] = dfcoord['nj'] - 1\n",
    "lon = pd.pivot_table(dfcoord, values='Longitude', index=['nj'], columns=['ni'])\n",
    "lat = pd.pivot_table(dfcoord, values='Latitude', index=['nj'], columns=['ni'])\n",
    "\n",
    "plt.scatter(lon.values, lat.values, c=tot)\"\"\""
   ]
  },
  {
   "cell_type": "code",
   "execution_count": 7,
   "id": "7291773a",
   "metadata": {},
   "outputs": [],
   "source": [
    "#dfCSL = pd.read_csv(r'C:\\Users\\leachj\\Documents\\5_Oil Sands Monitoring Group\\gis\\Climate_station_locations.csv')"
   ]
  },
  {
   "cell_type": "code",
   "execution_count": 8,
   "id": "98b33ab0",
   "metadata": {},
   "outputs": [
    {
     "data": {
      "text/plain": [
       "'for i in range(0, len(dfCSL)):\\n    staidx = np.argmin(np.sqrt((dfcoord[\\'Latitude\\'] - dfCSL[\\'Latitude\\'][i]) ** 2 + \\n                               (dfcoord[\\'Longitude\\'] - dfCSL[\\'Longitude\\'][i]) ** 2))\\n    grid_tot = tot[:, int(dfcoord.loc[staidx][\\'nj\\']), int(dfcoord.loc[staidx][\\'ni\\'])]\\n    print(f\\'{dfCSL[\"Name\"][i]} precip for 2002: {grid_tot[0]:.0f} mm\\')'"
      ]
     },
     "execution_count": 8,
     "metadata": {},
     "output_type": "execute_result"
    }
   ],
   "source": [
    "\"\"\"for i in range(0, len(dfCSL)):\n",
    "    staidx = np.argmin(np.sqrt((dfcoord['Latitude'] - dfCSL['Latitude'][i]) ** 2 + \n",
    "                               (dfcoord['Longitude'] - dfCSL['Longitude'][i]) ** 2))\n",
    "    grid_tot = tot[:, int(dfcoord.loc[staidx]['nj']), int(dfcoord.loc[staidx]['ni'])]\n",
    "    print(f'{dfCSL[\"Name\"][i]} precip for 2002: {grid_tot[0]:.0f} mm')\"\"\""
   ]
  }
 ],
 "metadata": {
  "kernelspec": {
   "display_name": "Python 3 (ipykernel)",
   "language": "python",
   "name": "python3"
  },
  "language_info": {
   "codemirror_mode": {
    "name": "ipython",
    "version": 3
   },
   "file_extension": ".py",
   "mimetype": "text/x-python",
   "name": "python",
   "nbconvert_exporter": "python",
   "pygments_lexer": "ipython3",
   "version": "3.10.0"
  }
 },
 "nbformat": 4,
 "nbformat_minor": 5
}
