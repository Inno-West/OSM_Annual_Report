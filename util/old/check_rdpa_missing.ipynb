{
 "cells": [
  {
   "cell_type": "code",
   "execution_count": 1,
   "id": "854730f5",
   "metadata": {},
   "outputs": [],
   "source": [
    "import pandas as pd"
   ]
  },
  {
   "cell_type": "code",
   "execution_count": 2,
   "id": "21191b97",
   "metadata": {},
   "outputs": [],
   "source": [
    "start_yr = 2002\n",
    "end_yr = 2021\n",
    "df = []\n",
    "\n",
    "for yyyy in range(start_yr, end_yr+1):\n",
    "    df.append(pd.read_csv(f'CaPA_MAP_{yyyy}-{yyyy}.csv'))\n",
    "\n",
    "df = pd.concat(df)\n",
    "\n",
    "df.to_csv(f'CaPA_MAP_{start_yr}-{end_yr}.csv', index=False)"
   ]
  },
  {
   "cell_type": "code",
   "execution_count": 3,
   "id": "1123fd60",
   "metadata": {},
   "outputs": [
    {
     "data": {
      "text/plain": [
       "<AxesSubplot:xlabel='YEAR'>"
      ]
     },
     "execution_count": 3,
     "metadata": {},
     "output_type": "execute_result"
    },
    {
     "data": {
      "image/png": "[encoded data removed]",
      "text/plain": [
       "<Figure size 432x288 with 1 Axes>"
      ]
     },
     "metadata": {
      "needs_background": "light"
     },
     "output_type": "display_data"
    },
    {
     "data": {
      "image/png": "[encoded data removed]",
      "text/plain": [
       "<Figure size 432x288 with 1 Axes>"
      ]
     },
     "metadata": {
      "needs_background": "light"
     },
     "output_type": "display_data"
    }
   ],
   "source": [
    "df[df['StationID'] == '07BE001'].plot.bar('YEAR','VALUE')\n",
    "df[df['StationID'] == '07BE001'].plot.bar('YEAR','MISSING')"
   ]
  },
  {
   "cell_type": "code",
   "execution_count": 4,
   "id": "fdffedda",
   "metadata": {},
   "outputs": [
    {
     "data": {
      "text/html": [
       "<div>\n",
       "<style scoped>\n",
       "    .dataframe tbody tr th:only-of-type {\n",
       "        vertical-align: middle;\n",
       "    }\n",
       "\n",
       "    .dataframe tbody tr th {\n",
       "        vertical-align: top;\n",
       "    }\n",
       "\n",
       "    .dataframe thead th {\n",
       "        text-align: right;\n",
       "    }\n",
       "</style>\n",
       "<table border=\"1\" class=\"dataframe\">\n",
       "  <thead>\n",
       "    <tr style=\"text-align: right;\">\n",
       "      <th></th>\n",
       "      <th>StationID</th>\n",
       "      <th>YEAR</th>\n",
       "      <th>VALUE</th>\n",
       "      <th>MISSING</th>\n",
       "    </tr>\n",
       "  </thead>\n",
       "  <tbody>\n",
       "    <tr>\n",
       "      <th>0</th>\n",
       "      <td>07BE001</td>\n",
       "      <td>2002</td>\n",
       "      <td>425.516765</td>\n",
       "      <td>0.0</td>\n",
       "    </tr>\n",
       "    <tr>\n",
       "      <th>0</th>\n",
       "      <td>07BE001</td>\n",
       "      <td>2003</td>\n",
       "      <td>519.713357</td>\n",
       "      <td>0.0</td>\n",
       "    </tr>\n",
       "    <tr>\n",
       "      <th>0</th>\n",
       "      <td>07BE001</td>\n",
       "      <td>2004</td>\n",
       "      <td>656.118312</td>\n",
       "      <td>9.0</td>\n",
       "    </tr>\n",
       "    <tr>\n",
       "      <th>0</th>\n",
       "      <td>07BE001</td>\n",
       "      <td>2005</td>\n",
       "      <td>554.237627</td>\n",
       "      <td>1.0</td>\n",
       "    </tr>\n",
       "    <tr>\n",
       "      <th>0</th>\n",
       "      <td>07BE001</td>\n",
       "      <td>2006</td>\n",
       "      <td>552.782742</td>\n",
       "      <td>0.0</td>\n",
       "    </tr>\n",
       "    <tr>\n",
       "      <th>0</th>\n",
       "      <td>07BE001</td>\n",
       "      <td>2007</td>\n",
       "      <td>582.291744</td>\n",
       "      <td>7.0</td>\n",
       "    </tr>\n",
       "    <tr>\n",
       "      <th>0</th>\n",
       "      <td>07BE001</td>\n",
       "      <td>2008</td>\n",
       "      <td>515.487577</td>\n",
       "      <td>2.0</td>\n",
       "    </tr>\n",
       "    <tr>\n",
       "      <th>0</th>\n",
       "      <td>07BE001</td>\n",
       "      <td>2009</td>\n",
       "      <td>486.932999</td>\n",
       "      <td>5.0</td>\n",
       "    </tr>\n",
       "    <tr>\n",
       "      <th>0</th>\n",
       "      <td>07BE001</td>\n",
       "      <td>2010</td>\n",
       "      <td>484.538857</td>\n",
       "      <td>4.0</td>\n",
       "    </tr>\n",
       "    <tr>\n",
       "      <th>0</th>\n",
       "      <td>07BE001</td>\n",
       "      <td>2011</td>\n",
       "      <td>631.637960</td>\n",
       "      <td>0.0</td>\n",
       "    </tr>\n",
       "    <tr>\n",
       "      <th>0</th>\n",
       "      <td>07BE001</td>\n",
       "      <td>2012</td>\n",
       "      <td>421.761589</td>\n",
       "      <td>101.0</td>\n",
       "    </tr>\n",
       "    <tr>\n",
       "      <th>0</th>\n",
       "      <td>07BE001</td>\n",
       "      <td>2013</td>\n",
       "      <td>623.857169</td>\n",
       "      <td>0.0</td>\n",
       "    </tr>\n",
       "    <tr>\n",
       "      <th>0</th>\n",
       "      <td>07BE001</td>\n",
       "      <td>2014</td>\n",
       "      <td>527.575368</td>\n",
       "      <td>0.0</td>\n",
       "    </tr>\n",
       "    <tr>\n",
       "      <th>0</th>\n",
       "      <td>07BE001</td>\n",
       "      <td>2015</td>\n",
       "      <td>495.023171</td>\n",
       "      <td>0.0</td>\n",
       "    </tr>\n",
       "    <tr>\n",
       "      <th>0</th>\n",
       "      <td>07BE001</td>\n",
       "      <td>2016</td>\n",
       "      <td>620.212770</td>\n",
       "      <td>0.0</td>\n",
       "    </tr>\n",
       "    <tr>\n",
       "      <th>0</th>\n",
       "      <td>07BE001</td>\n",
       "      <td>2017</td>\n",
       "      <td>584.421516</td>\n",
       "      <td>0.0</td>\n",
       "    </tr>\n",
       "    <tr>\n",
       "      <th>0</th>\n",
       "      <td>07BE001</td>\n",
       "      <td>2018</td>\n",
       "      <td>562.842088</td>\n",
       "      <td>0.0</td>\n",
       "    </tr>\n",
       "    <tr>\n",
       "      <th>0</th>\n",
       "      <td>07BE001</td>\n",
       "      <td>2019</td>\n",
       "      <td>632.221227</td>\n",
       "      <td>0.0</td>\n",
       "    </tr>\n",
       "    <tr>\n",
       "      <th>0</th>\n",
       "      <td>07BE001</td>\n",
       "      <td>2020</td>\n",
       "      <td>543.086465</td>\n",
       "      <td>0.0</td>\n",
       "    </tr>\n",
       "    <tr>\n",
       "      <th>0</th>\n",
       "      <td>07BE001</td>\n",
       "      <td>2021</td>\n",
       "      <td>424.496354</td>\n",
       "      <td>3.0</td>\n",
       "    </tr>\n",
       "  </tbody>\n",
       "</table>\n",
       "</div>"
      ],
      "text/plain": [
       "  StationID  YEAR       VALUE  MISSING\n",
       "0   07BE001  2002  425.516765      0.0\n",
       "0   07BE001  2003  519.713357      0.0\n",
       "0   07BE001  2004  656.118312      9.0\n",
       "0   07BE001  2005  554.237627      1.0\n",
       "0   07BE001  2006  552.782742      0.0\n",
       "0   07BE001  2007  582.291744      7.0\n",
       "0   07BE001  2008  515.487577      2.0\n",
       "0   07BE001  2009  486.932999      5.0\n",
       "0   07BE001  2010  484.538857      4.0\n",
       "0   07BE001  2011  631.637960      0.0\n",
       "0   07BE001  2012  421.761589    101.0\n",
       "0   07BE001  2013  623.857169      0.0\n",
       "0   07BE001  2014  527.575368      0.0\n",
       "0   07BE001  2015  495.023171      0.0\n",
       "0   07BE001  2016  620.212770      0.0\n",
       "0   07BE001  2017  584.421516      0.0\n",
       "0   07BE001  2018  562.842088      0.0\n",
       "0   07BE001  2019  632.221227      0.0\n",
       "0   07BE001  2020  543.086465      0.0\n",
       "0   07BE001  2021  424.496354      3.0"
      ]
     },
     "execution_count": 4,
     "metadata": {},
     "output_type": "execute_result"
    }
   ],
   "source": [
    "df[df['StationID'] == '07BE001']"
   ]
  },
  {
   "cell_type": "code",
   "execution_count": null,
   "id": "911840a1",
   "metadata": {},
   "outputs": [],
   "source": []
  }
 ],
 "metadata": {
  "kernelspec": {
   "display_name": "Python 3 (ipykernel)",
   "language": "python",
   "name": "python3"
  },
  "language_info": {
   "codemirror_mode": {
    "name": "ipython",
    "version": 3
   },
   "file_extension": ".py",
   "mimetype": "text/x-python",
   "name": "python",
   "nbconvert_exporter": "python",
   "pygments_lexer": "ipython3",
   "version": "3.10.0"
  }
 },
 "nbformat": 4,
 "nbformat_minor": 5
}
