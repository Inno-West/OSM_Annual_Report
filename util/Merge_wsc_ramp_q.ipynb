{
 "cells": [
  {
   "cell_type": "code",
   "execution_count": 1,
   "id": "672469f7",
   "metadata": {},
   "outputs": [],
   "source": [
    "import pandas as pd\n",
    "import os"
   ]
  },
  {
   "cell_type": "code",
   "execution_count": 2,
   "id": "97ac6657",
   "metadata": {},
   "outputs": [],
   "source": [
    "# Not all listed here, only some Q files\n",
    "list = ['07CE010','07CE013','07DA007','07DA023','07DA024','07DA025','07DA026','07DA027','07DA028','07DA029','07DA030',\n",
    "        '07DA032','07DA033','07DA034','07DA035','07DA037','07DA038','07DA039','07DA040','07DA041','07DA042','07DA044',\n",
    "        '07DA045','07DB002','07DB003','07DB006','07DC003','07DC004','07DD001',\n",
    "        '07CD008','07CD009','07CE005','07CE007','07CE008']"
   ]
  },
  {
   "cell_type": "code",
   "execution_count": 3,
   "id": "1cd4decd",
   "metadata": {},
   "outputs": [],
   "source": [
    "cols = ['Station', 'Date', 'Discharge', 'Discharge Flag']\n",
    "cols2 = [' ID','PARAM','Date','Flow(m³/s)','SYM']"
   ]
  },
  {
   "cell_type": "code",
   "execution_count": 4,
   "id": "8c073821",
   "metadata": {},
   "outputs": [],
   "source": [
    "df = pd.read_csv(os.getcwd() + os.sep + 'osm-annual-report-master' + os.sep + 'RAMP_Q.csv')"
   ]
  },
  {
   "cell_type": "code",
   "execution_count": 5,
   "id": "a49c9ab5",
   "metadata": {},
   "outputs": [],
   "source": [
    "df = df[cols]"
   ]
  },
  {
   "cell_type": "code",
   "execution_count": 6,
   "id": "097065dd",
   "metadata": {},
   "outputs": [],
   "source": [
    "df = df.rename(columns={'Station': ' ID', 'Discharge': 'Flow(m³/s)', 'Discharge Flag': 'SYM'})"
   ]
  },
  {
   "cell_type": "code",
   "execution_count": 7,
   "id": "f07a9fa3",
   "metadata": {},
   "outputs": [],
   "source": [
    "df['PARAM'] = 1"
   ]
  },
  {
   "cell_type": "code",
   "execution_count": 8,
   "id": "0d1bb2ea",
   "metadata": {},
   "outputs": [],
   "source": [
    "df = df[cols2]"
   ]
  },
  {
   "cell_type": "code",
   "execution_count": 9,
   "id": "16366ca1",
   "metadata": {},
   "outputs": [],
   "source": [
    "df['Date'] = pd.to_datetime(df['Date'])\n",
    "df['Date'] = df['Date'].dt.strftime('%Y/%m/%d')"
   ]
  },
  {
   "cell_type": "code",
   "execution_count": 10,
   "id": "639690d9",
   "metadata": {},
   "outputs": [],
   "source": [
    "for l in list:\n",
    "    df2 = df[df[' ID'] == l]\n",
    "    df2 = df2.dropna(subset=['Flow(m³/s)'])\n",
    "    try:\n",
    "        df3 = pd.read_csv(fr'C:\\Users\\leachj\\PycharmProjects\\tinihydat\\HYDAT\\No RAMP\\{l}_Daily_Flow_ts.csv', encoding='ANSI')\n",
    "        df3['Date'] = pd.to_datetime(df3['Date'])\n",
    "        df3['Date'] = df3['Date'].dt.strftime('%Y/%m/%d')\n",
    "        df3 = df3.drop([len(df3) - 1, len(df3) - 2])\n",
    "        df3 = df3.dropna(subset=['Flow(m³/s)'])\n",
    "    except FileNotFoundError:\n",
    "        df3 = pd.DataFrame(columns=cols2)\n",
    "    df4 = df3.append(df2)\n",
    "    df4 = df4.sort_values(by='Date')\n",
    "    \n",
    "    if len(df2) + len(df3) != len(df4):\n",
    "        print('ERROR')\n",
    "        break\n",
    "    \n",
    "    df4 = df4.set_index('Date')\n",
    "    df5 = pd.DataFrame({'Date': pd.date_range(start=df4.index[0], end=df4.index[-1])})\n",
    "    df5 = df5.set_index('Date')  \n",
    "    idx = df5.index.isin(df4.index)\n",
    "    df5[' ID'] = l\n",
    "    df5['PARAM'] = 1\n",
    "    df5.loc[idx, 'SYM'] = df4['SYM'].values\n",
    "    df5.loc[idx, 'Flow(m³/s)'] = df4['Flow(m³/s)'].values\n",
    "    df5 = df5.reset_index()\n",
    "    df5 = df5[cols2]\n",
    "    df5['Date'] = df5['Date'].dt.strftime('%Y/%m/%d')\n",
    "    df5.to_csv(f'{l}_Daily_Flow_ts.csv', index=False, encoding='ANSI')\n",
    "    with open(f'{l}_Daily_Flow_ts.csv', 'a') as f:\n",
    "        f.write('\\n')\n",
    "        f.write('DISCLAIMER\\n')\n",
    "        f.write('\"NOTICE: This application and its data are provided AS-IS.  In no event shall Environment Canada be liable for any damages whatsoever (including, without limitation, damages for loss of business profits, business interruption, loss of business information, or other pecuniary loss) arising out of the use of, or inability to use this Environment Canada product, even if Environment Canada has been advised of the possibility of such damages.\"\\n')\n",
    "    "
   ]
  },
  {
   "cell_type": "code",
   "execution_count": 11,
   "id": "eba705ce",
   "metadata": {},
   "outputs": [
    {
     "data": {
      "text/html": [
       "<div>\n",
       "<style scoped>\n",
       "    .dataframe tbody tr th:only-of-type {\n",
       "        vertical-align: middle;\n",
       "    }\n",
       "\n",
       "    .dataframe tbody tr th {\n",
       "        vertical-align: top;\n",
       "    }\n",
       "\n",
       "    .dataframe thead th {\n",
       "        text-align: right;\n",
       "    }\n",
       "</style>\n",
       "<table border=\"1\" class=\"dataframe\">\n",
       "  <thead>\n",
       "    <tr style=\"text-align: right;\">\n",
       "      <th></th>\n",
       "      <th>ID</th>\n",
       "      <th>PARAM</th>\n",
       "      <th>Flow(m³/s)</th>\n",
       "      <th>SYM</th>\n",
       "    </tr>\n",
       "    <tr>\n",
       "      <th>Date</th>\n",
       "      <th></th>\n",
       "      <th></th>\n",
       "      <th></th>\n",
       "      <th></th>\n",
       "    </tr>\n",
       "  </thead>\n",
       "  <tbody>\n",
       "    <tr>\n",
       "      <th>2012/05/20</th>\n",
       "      <td>07CE008</td>\n",
       "      <td>1.0</td>\n",
       "      <td>6.82</td>\n",
       "      <td>NaN</td>\n",
       "    </tr>\n",
       "    <tr>\n",
       "      <th>2012/05/21</th>\n",
       "      <td>07CE008</td>\n",
       "      <td>1.0</td>\n",
       "      <td>6.52</td>\n",
       "      <td>NaN</td>\n",
       "    </tr>\n",
       "    <tr>\n",
       "      <th>2012/05/22</th>\n",
       "      <td>07CE008</td>\n",
       "      <td>1.0</td>\n",
       "      <td>5.91</td>\n",
       "      <td>NaN</td>\n",
       "    </tr>\n",
       "    <tr>\n",
       "      <th>2012/05/23</th>\n",
       "      <td>07CE008</td>\n",
       "      <td>1.0</td>\n",
       "      <td>5.45</td>\n",
       "      <td>NaN</td>\n",
       "    </tr>\n",
       "    <tr>\n",
       "      <th>2012/05/24</th>\n",
       "      <td>07CE008</td>\n",
       "      <td>1.0</td>\n",
       "      <td>5.02</td>\n",
       "      <td>NaN</td>\n",
       "    </tr>\n",
       "    <tr>\n",
       "      <th>...</th>\n",
       "      <td>...</td>\n",
       "      <td>...</td>\n",
       "      <td>...</td>\n",
       "      <td>...</td>\n",
       "    </tr>\n",
       "    <tr>\n",
       "      <th>2020/12/27</th>\n",
       "      <td>07CE008</td>\n",
       "      <td>1.0</td>\n",
       "      <td>1.78</td>\n",
       "      <td>B</td>\n",
       "    </tr>\n",
       "    <tr>\n",
       "      <th>2020/12/28</th>\n",
       "      <td>07CE008</td>\n",
       "      <td>1.0</td>\n",
       "      <td>1.76</td>\n",
       "      <td>B</td>\n",
       "    </tr>\n",
       "    <tr>\n",
       "      <th>2020/12/29</th>\n",
       "      <td>07CE008</td>\n",
       "      <td>1.0</td>\n",
       "      <td>1.75</td>\n",
       "      <td>B</td>\n",
       "    </tr>\n",
       "    <tr>\n",
       "      <th>2020/12/30</th>\n",
       "      <td>07CE008</td>\n",
       "      <td>1.0</td>\n",
       "      <td>1.74</td>\n",
       "      <td>B</td>\n",
       "    </tr>\n",
       "    <tr>\n",
       "      <th>2020/12/31</th>\n",
       "      <td>07CE008</td>\n",
       "      <td>1.0</td>\n",
       "      <td>1.72</td>\n",
       "      <td>B</td>\n",
       "    </tr>\n",
       "  </tbody>\n",
       "</table>\n",
       "<p>3039 rows × 4 columns</p>\n",
       "</div>"
      ],
      "text/plain": [
       "                 ID  PARAM  Flow(m³/s)  SYM\n",
       "Date                                       \n",
       "2012/05/20  07CE008    1.0        6.82  NaN\n",
       "2012/05/21  07CE008    1.0        6.52  NaN\n",
       "2012/05/22  07CE008    1.0        5.91  NaN\n",
       "2012/05/23  07CE008    1.0        5.45  NaN\n",
       "2012/05/24  07CE008    1.0        5.02  NaN\n",
       "...             ...    ...         ...  ...\n",
       "2020/12/27  07CE008    1.0        1.78    B\n",
       "2020/12/28  07CE008    1.0        1.76    B\n",
       "2020/12/29  07CE008    1.0        1.75    B\n",
       "2020/12/30  07CE008    1.0        1.74    B\n",
       "2020/12/31  07CE008    1.0        1.72    B\n",
       "\n",
       "[3039 rows x 4 columns]"
      ]
     },
     "execution_count": 11,
     "metadata": {},
     "output_type": "execute_result"
    }
   ],
   "source": [
    "df4"
   ]
  },
  {
   "cell_type": "code",
   "execution_count": null,
   "id": "f38de7e5",
   "metadata": {},
   "outputs": [],
   "source": []
  }
 ],
 "metadata": {
  "kernelspec": {
   "display_name": "Python 3 (ipykernel)",
   "language": "python",
   "name": "python3"
  },
  "language_info": {
   "codemirror_mode": {
    "name": "ipython",
    "version": 3
   },
   "file_extension": ".py",
   "mimetype": "text/x-python",
   "name": "python",
   "nbconvert_exporter": "python",
   "pygments_lexer": "ipython3",
   "version": "3.10.0"
  }
 },
 "nbformat": 4,
 "nbformat_minor": 5
}
